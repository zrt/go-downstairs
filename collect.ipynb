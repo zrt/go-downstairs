{
 "cells": [
  {
   "cell_type": "code",
   "execution_count": 60,
   "metadata": {},
   "outputs": [],
   "source": [
    "url = 'https://feeds.transloc.com/3/vehicle_statuses?agencies=104&include_arrivals=false'"
   ]
  },
  {
   "cell_type": "code",
   "execution_count": 116,
   "metadata": {},
   "outputs": [],
   "source": [
    "import requests, random, torch,time\n",
    "from pprint import pprint"
   ]
  },
  {
   "cell_type": "code",
   "execution_count": 99,
   "metadata": {},
   "outputs": [],
   "source": [
    "result = requests.get(url)"
   ]
  },
  {
   "cell_type": "code",
   "execution_count": 100,
   "metadata": {},
   "outputs": [],
   "source": [
    "data = result.json()"
   ]
  },
  {
   "cell_type": "code",
   "execution_count": 96,
   "metadata": {},
   "outputs": [
    {
     "data": {
      "text/plain": [
       "dict"
      ]
     },
     "execution_count": 96,
     "metadata": {},
     "output_type": "execute_result"
    }
   ],
   "source": [
    "type(data)"
   ]
  },
  {
   "cell_type": "code",
   "execution_count": 65,
   "metadata": {},
   "outputs": [
    {
     "data": {
      "text/plain": [
       "dict_keys(['arrivals', 'success', 'vehicles'])"
      ]
     },
     "execution_count": 65,
     "metadata": {},
     "output_type": "execute_result"
    }
   ],
   "source": [
    "data.keys()"
   ]
  },
  {
   "cell_type": "code",
   "execution_count": 66,
   "metadata": {},
   "outputs": [
    {
     "data": {
      "text/plain": [
       "list"
      ]
     },
     "execution_count": 66,
     "metadata": {},
     "output_type": "execute_result"
    }
   ],
   "source": [
    "type(data['arrivals'])"
   ]
  },
  {
   "cell_type": "code",
   "execution_count": 67,
   "metadata": {},
   "outputs": [
    {
     "data": {
      "text/plain": [
       "5021"
      ]
     },
     "execution_count": 67,
     "metadata": {},
     "output_type": "execute_result"
    }
   ],
   "source": [
    "len(data['arrivals'])"
   ]
  },
  {
   "cell_type": "code",
   "execution_count": 68,
   "metadata": {},
   "outputs": [
    {
     "data": {
      "text/plain": [
       "{'vehicle_id': 8009032,\n",
       " 'stop_id': 8213066,\n",
       " 'route_id': 8005350,\n",
       " 'timestamp': 1554232062,\n",
       " 'type': 'vehicle-based',\n",
       " 'distance': 4953.9}"
      ]
     },
     "execution_count": 68,
     "metadata": {},
     "output_type": "execute_result"
    }
   ],
   "source": [
    "random.choice(data['arrivals'])"
   ]
  },
  {
   "cell_type": "code",
   "execution_count": 69,
   "metadata": {},
   "outputs": [
    {
     "data": {
      "text/plain": [
       "bool"
      ]
     },
     "execution_count": 69,
     "metadata": {},
     "output_type": "execute_result"
    }
   ],
   "source": [
    "type(data['success'])"
   ]
  },
  {
   "cell_type": "code",
   "execution_count": 70,
   "metadata": {},
   "outputs": [
    {
     "data": {
      "text/plain": [
       "True"
      ]
     },
     "execution_count": 70,
     "metadata": {},
     "output_type": "execute_result"
    }
   ],
   "source": [
    "data['success']"
   ]
  },
  {
   "cell_type": "code",
   "execution_count": 71,
   "metadata": {},
   "outputs": [
    {
     "data": {
      "text/plain": [
       "list"
      ]
     },
     "execution_count": 71,
     "metadata": {},
     "output_type": "execute_result"
    }
   ],
   "source": [
    "type(data['vehicles'])"
   ]
  },
  {
   "cell_type": "code",
   "execution_count": 72,
   "metadata": {},
   "outputs": [
    {
     "data": {
      "text/plain": [
       "97"
      ]
     },
     "execution_count": 72,
     "metadata": {},
     "output_type": "execute_result"
    }
   ],
   "source": [
    "len(data['vehicles'])"
   ]
  },
  {
   "cell_type": "code",
   "execution_count": 101,
   "metadata": {},
   "outputs": [
    {
     "name": "stdout",
     "output_type": "stream",
     "text": [
      "{'agency_id': 104,\n",
      " 'apc_status': 'up',\n",
      " 'arrival_status': 'Late',\n",
      " 'call_name': '1157',\n",
      " 'current_stop_id': None,\n",
      " 'heading': 88,\n",
      " 'id': 8010455,\n",
      " 'load': None,\n",
      " 'next_stop': 8219208,\n",
      " 'num_cars': None,\n",
      " 'off_route': True,\n",
      " 'position': [41.786057, -87.5915],\n",
      " 'route_id': 8005352,\n",
      " 'segment_id': None,\n",
      " 'service_status': 'in_service',\n",
      " 'speed': 0,\n",
      " 'timestamp': 1554231502000}\n"
     ]
    }
   ],
   "source": [
    "for x in data['vehicles']:\n",
    "    if x['call_name'] == '1157':\n",
    "        pprint(x)"
   ]
  },
  {
   "cell_type": "code",
   "execution_count": 102,
   "metadata": {},
   "outputs": [
    {
     "name": "stdout",
     "output_type": "stream",
     "text": [
      "{'agency_id': 104,\n",
      " 'apc_status': 'up',\n",
      " 'arrival_status': 'Late',\n",
      " 'call_name': '1157',\n",
      " 'current_stop_id': None,\n",
      " 'heading': 88,\n",
      " 'id': 8010455,\n",
      " 'load': None,\n",
      " 'next_stop': 8219208,\n",
      " 'num_cars': None,\n",
      " 'off_route': True,\n",
      " 'position': [41.786057, -87.5915],\n",
      " 'route_id': 8005352,\n",
      " 'segment_id': None,\n",
      " 'service_status': 'in_service',\n",
      " 'speed': 0,\n",
      " 'timestamp': 1554231502000}\n"
     ]
    }
   ],
   "source": [
    "for x in data['vehicles']:\n",
    "    if x['route_id'] == 8005352:\n",
    "        pprint(x)"
   ]
  },
  {
   "cell_type": "code",
   "execution_count": null,
   "metadata": {},
   "outputs": [],
   "source": []
  },
  {
   "cell_type": "code",
   "execution_count": null,
   "metadata": {},
   "outputs": [],
   "source": [
    "UPC_position = [41.79534, -87.5917167]\n",
    "UPC_stop = 8212220"
   ]
  },
  {
   "cell_type": "code",
   "execution_count": null,
   "metadata": {},
   "outputs": [],
   "source": [
    "TTIC_position = [41.7860381, -87.5931319]\n",
    "TTIC_stopcode = 8219208"
   ]
  },
  {
   "cell_type": "code",
   "execution_count": 120,
   "metadata": {},
   "outputs": [],
   "source": [
    "original_data = []\n",
    "original_data = torch.load('data.pkl')"
   ]
  },
  {
   "cell_type": "code",
   "execution_count": 123,
   "metadata": {},
   "outputs": [],
   "source": [
    "def collect_data():\n",
    "    url = 'https://feeds.transloc.com/3/vehicle_statuses?agencies=104&include_arrivals=false'\n",
    "    result = requests.get(url)\n",
    "    data = result.json()\n",
    "    for x in data['vehicles']:\n",
    "        if x['route_id'] == 8005352:\n",
    "            original_data.append(x)"
   ]
  },
  {
   "cell_type": "code",
   "execution_count": 126,
   "metadata": {},
   "outputs": [],
   "source": [
    "def collect():\n",
    "    original_data.append({'service_status':'new'})\n",
    "    while len(original_data) <= 10000:\n",
    "        collect_data()\n",
    "        print(len(original_data))\n",
    "        if len(original_data)%100 == 0:\n",
    "            torch.save(original_data, 'data.pkl')\n",
    "        time.sleep(2)"
   ]
  },
  {
   "cell_type": "code",
   "execution_count": 127,
   "metadata": {
    "scrolled": true
   },
   "outputs": [
    {
     "name": "stdout",
     "output_type": "stream",
     "text": [
      "5004\n",
      "5006\n",
      "5008\n",
      "5010\n",
      "5012\n",
      "5014\n",
      "5016\n",
      "5018\n",
      "5020\n",
      "5022\n",
      "5024\n",
      "5026\n",
      "5028\n",
      "5030\n",
      "5032\n",
      "5034\n",
      "5036\n",
      "5038\n",
      "5040\n",
      "5042\n",
      "5044\n",
      "5046\n",
      "5048\n",
      "5050\n",
      "5052\n",
      "5054\n",
      "5056\n",
      "5058\n",
      "5060\n",
      "5062\n",
      "5064\n",
      "5066\n",
      "5068\n",
      "5070\n",
      "5072\n",
      "5074\n",
      "5076\n",
      "5078\n",
      "5080\n",
      "5082\n",
      "5084\n",
      "5086\n",
      "5088\n",
      "5090\n",
      "5092\n",
      "5094\n",
      "5096\n",
      "5098\n",
      "5100\n",
      "5102\n",
      "5104\n",
      "5106\n",
      "5108\n",
      "5110\n",
      "5112\n",
      "5114\n",
      "5116\n",
      "5118\n",
      "5120\n",
      "5122\n",
      "5124\n",
      "5126\n",
      "5128\n",
      "5130\n",
      "5132\n",
      "5134\n",
      "5136\n",
      "5138\n",
      "5140\n",
      "5142\n",
      "5144\n",
      "5146\n",
      "5148\n",
      "5150\n",
      "5152\n",
      "5154\n",
      "5156\n",
      "5158\n",
      "5160\n",
      "5162\n",
      "5164\n",
      "5166\n",
      "5168\n",
      "5170\n",
      "5172\n",
      "5174\n",
      "5176\n",
      "5178\n",
      "5180\n",
      "5182\n",
      "5184\n",
      "5186\n",
      "5188\n",
      "5190\n",
      "5192\n",
      "5194\n",
      "5196\n",
      "5198\n",
      "5200\n",
      "5202\n",
      "5204\n",
      "5206\n",
      "5208\n",
      "5210\n",
      "5212\n",
      "5214\n",
      "5216\n",
      "5218\n",
      "5220\n",
      "5222\n",
      "5224\n",
      "5226\n",
      "5228\n",
      "5230\n",
      "5232\n",
      "5234\n",
      "5236\n",
      "5238\n",
      "5240\n",
      "5242\n",
      "5244\n",
      "5246\n",
      "5248\n",
      "5250\n",
      "5252\n",
      "5254\n",
      "5256\n",
      "5258\n",
      "5260\n",
      "5262\n",
      "5264\n",
      "5266\n",
      "5268\n",
      "5270\n",
      "5272\n",
      "5274\n",
      "5276\n",
      "5278\n",
      "5280\n",
      "5282\n",
      "5284\n",
      "5286\n",
      "5288\n",
      "5290\n",
      "5292\n",
      "5294\n",
      "5296\n",
      "5298\n",
      "5300\n",
      "5302\n",
      "5304\n",
      "5306\n",
      "5308\n",
      "5310\n",
      "5312\n",
      "5314\n",
      "5316\n",
      "5318\n",
      "5320\n",
      "5322\n",
      "5324\n",
      "5326\n",
      "5328\n",
      "5330\n",
      "5332\n",
      "5334\n",
      "5336\n",
      "5338\n",
      "5340\n",
      "5342\n",
      "5344\n",
      "5346\n",
      "5348\n",
      "5350\n",
      "5352\n",
      "5354\n",
      "5356\n",
      "5358\n",
      "5360\n",
      "5362\n",
      "5364\n",
      "5366\n",
      "5368\n",
      "5370\n",
      "5372\n",
      "5374\n",
      "5376\n",
      "5378\n",
      "5380\n",
      "5382\n",
      "5384\n",
      "5386\n",
      "5388\n",
      "5390\n",
      "5392\n",
      "5394\n",
      "5396\n",
      "5398\n",
      "5400\n",
      "5402\n",
      "5404\n",
      "5406\n",
      "5408\n",
      "5410\n",
      "5412\n",
      "5414\n",
      "5416\n",
      "5418\n",
      "5420\n",
      "5422\n",
      "5424\n",
      "5426\n",
      "5428\n",
      "5430\n",
      "5432\n",
      "5434\n",
      "5436\n",
      "5438\n",
      "5440\n",
      "5442\n",
      "5444\n",
      "5446\n",
      "5448\n",
      "5450\n",
      "5452\n",
      "5454\n",
      "5456\n",
      "5458\n",
      "5460\n",
      "5462\n",
      "5464\n",
      "5466\n",
      "5468\n",
      "5470\n",
      "5472\n",
      "5474\n",
      "5476\n",
      "5478\n",
      "5480\n",
      "5482\n",
      "5484\n",
      "5486\n",
      "5488\n",
      "5490\n",
      "5492\n",
      "5494\n",
      "5496\n",
      "5498\n",
      "5500\n",
      "5502\n",
      "5504\n",
      "5506\n",
      "5508\n",
      "5510\n",
      "5512\n",
      "5514\n",
      "5516\n",
      "5518\n",
      "5520\n",
      "5522\n",
      "5524\n",
      "5526\n",
      "5528\n",
      "5530\n",
      "5532\n",
      "5534\n",
      "5536\n",
      "5538\n",
      "5540\n",
      "5542\n",
      "5544\n",
      "5546\n",
      "5548\n",
      "5550\n",
      "5552\n",
      "5554\n",
      "5556\n",
      "5558\n",
      "5560\n",
      "5562\n",
      "5564\n",
      "5566\n",
      "5568\n",
      "5570\n",
      "5572\n",
      "5574\n",
      "5576\n",
      "5578\n",
      "5580\n",
      "5582\n",
      "5584\n",
      "5586\n",
      "5588\n",
      "5590\n",
      "5592\n",
      "5594\n",
      "5596\n",
      "5598\n",
      "5600\n",
      "5602\n",
      "5604\n",
      "5606\n",
      "5608\n",
      "5610\n",
      "5612\n",
      "5614\n",
      "5616\n",
      "5618\n",
      "5620\n",
      "5622\n",
      "5624\n",
      "5626\n",
      "5628\n",
      "5630\n",
      "5632\n",
      "5634\n",
      "5636\n",
      "5638\n",
      "5640\n",
      "5642\n",
      "5644\n",
      "5646\n",
      "5648\n",
      "5650\n",
      "5652\n",
      "5654\n",
      "5656\n",
      "5658\n",
      "5660\n",
      "5662\n",
      "5664\n",
      "5666\n",
      "5668\n",
      "5670\n",
      "5672\n",
      "5674\n",
      "5676\n",
      "5678\n",
      "5680\n",
      "5682\n",
      "5684\n",
      "5686\n",
      "5688\n",
      "5690\n",
      "5692\n",
      "5694\n",
      "5696\n",
      "5698\n",
      "5700\n",
      "5702\n",
      "5704\n",
      "5706\n",
      "5708\n",
      "5710\n",
      "5712\n",
      "5714\n",
      "5716\n",
      "5718\n",
      "5720\n",
      "5722\n",
      "5724\n",
      "5726\n",
      "5728\n",
      "5730\n",
      "5732\n",
      "5734\n",
      "5736\n",
      "5738\n",
      "5740\n",
      "5742\n",
      "5744\n",
      "5746\n",
      "5748\n",
      "5750\n",
      "5752\n",
      "5754\n",
      "5756\n",
      "5758\n",
      "5760\n",
      "5762\n",
      "5764\n",
      "5766\n",
      "5768\n",
      "5770\n",
      "5772\n",
      "5774\n",
      "5776\n",
      "5778\n",
      "5780\n",
      "5782\n"
     ]
    },
    {
     "ename": "KeyboardInterrupt",
     "evalue": "",
     "output_type": "error",
     "traceback": [
      "\u001b[0;31m---------------------------------------------------------------------------\u001b[0m",
      "\u001b[0;31mKeyboardInterrupt\u001b[0m                         Traceback (most recent call last)",
      "\u001b[0;32m<ipython-input-127-2456da050637>\u001b[0m in \u001b[0;36m<module>\u001b[0;34m\u001b[0m\n\u001b[0;32m----> 1\u001b[0;31m \u001b[0mcollect\u001b[0m\u001b[0;34m(\u001b[0m\u001b[0;34m)\u001b[0m\u001b[0;34m\u001b[0m\u001b[0;34m\u001b[0m\u001b[0m\n\u001b[0m",
      "\u001b[0;32m<ipython-input-126-d44ce8c8a6f7>\u001b[0m in \u001b[0;36mcollect\u001b[0;34m()\u001b[0m\n\u001b[1;32m      5\u001b[0m         \u001b[0;32mif\u001b[0m \u001b[0mlen\u001b[0m\u001b[0;34m(\u001b[0m\u001b[0moriginal_data\u001b[0m\u001b[0;34m)\u001b[0m\u001b[0;34m%\u001b[0m\u001b[0;36m100\u001b[0m \u001b[0;34m==\u001b[0m \u001b[0;36m0\u001b[0m\u001b[0;34m:\u001b[0m\u001b[0;34m\u001b[0m\u001b[0;34m\u001b[0m\u001b[0m\n\u001b[1;32m      6\u001b[0m             \u001b[0mtorch\u001b[0m\u001b[0;34m.\u001b[0m\u001b[0msave\u001b[0m\u001b[0;34m(\u001b[0m\u001b[0moriginal_data\u001b[0m\u001b[0;34m,\u001b[0m \u001b[0;34m'data.pkl'\u001b[0m\u001b[0;34m)\u001b[0m\u001b[0;34m\u001b[0m\u001b[0;34m\u001b[0m\u001b[0m\n\u001b[0;32m----> 7\u001b[0;31m         \u001b[0mtime\u001b[0m\u001b[0;34m.\u001b[0m\u001b[0msleep\u001b[0m\u001b[0;34m(\u001b[0m\u001b[0;36m2\u001b[0m\u001b[0;34m)\u001b[0m\u001b[0;34m\u001b[0m\u001b[0;34m\u001b[0m\u001b[0m\n\u001b[0m",
      "\u001b[0;31mKeyboardInterrupt\u001b[0m: "
     ]
    }
   ],
   "source": [
    "collect()"
   ]
  },
  {
   "cell_type": "code",
   "execution_count": null,
   "metadata": {},
   "outputs": [],
   "source": []
  },
  {
   "cell_type": "code",
   "execution_count": 130,
   "metadata": {},
   "outputs": [],
   "source": [
    "# for i in range(len(original_data)):\n",
    "#     if original_data[i]['call_name'] == '1157':\n",
    "#         print(original_data[i]['next_stop'])"
   ]
  },
  {
   "cell_type": "code",
   "execution_count": null,
   "metadata": {},
   "outputs": [],
   "source": []
  },
  {
   "cell_type": "code",
   "execution_count": null,
   "metadata": {},
   "outputs": [],
   "source": []
  },
  {
   "cell_type": "code",
   "execution_count": null,
   "metadata": {},
   "outputs": [],
   "source": []
  }
 ],
 "metadata": {
  "kernelspec": {
   "display_name": "Python 3",
   "language": "python",
   "name": "python3"
  },
  "language_info": {
   "codemirror_mode": {
    "name": "ipython",
    "version": 3
   },
   "file_extension": ".py",
   "mimetype": "text/x-python",
   "name": "python",
   "nbconvert_exporter": "python",
   "pygments_lexer": "ipython3",
   "version": "3.6.8"
  }
 },
 "nbformat": 4,
 "nbformat_minor": 2
}
