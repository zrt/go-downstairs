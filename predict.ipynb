{
 "cells": [
  {
   "cell_type": "code",
   "execution_count": 87,
   "metadata": {},
   "outputs": [],
   "source": [
    "import torch\n",
    "import requests\n",
    "from pprint import pprint\n",
    "import numpy as np"
   ]
  },
  {
   "cell_type": "code",
   "execution_count": 88,
   "metadata": {},
   "outputs": [],
   "source": [
    "upc_pos = torch.load('upc_pos.pkl')\n",
    "ttic_pos = torch.load('ttic_pos.pkl')"
   ]
  },
  {
   "cell_type": "code",
   "execution_count": null,
   "metadata": {},
   "outputs": [],
   "source": []
  },
  {
   "cell_type": "code",
   "execution_count": 89,
   "metadata": {},
   "outputs": [],
   "source": [
    "def predict(pos,next_stop):\n",
    "    # 最近的10个点平均\n",
    "    # 返回平均的距离\n",
    "    upc_dist = [(np.linalg.norm([x[0][0]-pos[0], x[0][1]-pos[1]]), x[2]) for x in upc_pos if x[1] == next_stop]\n",
    "    upc_dist = sorted(upc_dist, key=lambda x:x[0])\n",
    "    if len(upc_dist[:20]) == 0:\n",
    "        upc_pdist,upc_time,upc_time2 = 1, 1e100, 1e100\n",
    "    else:\n",
    "        upc_pdist = np.array(upc_dist[:20])[:,0].mean()\n",
    "        upc_time = np.array(upc_dist[:20])[:,1].min()\n",
    "        upc_time2 = np.array(upc_dist[:20])[:,1].mean()\n",
    "    \n",
    "    ttic_dist = [(np.linalg.norm([x[0][0]-pos[0], x[0][1]-pos[1]]), x[2]) for x in ttic_pos if x[1] == next_stop]\n",
    "    ttic_dist = sorted(ttic_dist, key=lambda x:x[0])\n",
    "    if len(ttic_dist[:20]) == 0:\n",
    "        ttic_pdist,ttic_time,ttic_time2 = 1, 1e100, 1e100\n",
    "    else:\n",
    "        ttic_pdist = np.array(ttic_dist[:20])[:,0].mean()\n",
    "        ttic_time = np.array(ttic_dist[:20])[:,1].min()\n",
    "        ttic_time2 = np.array(ttic_dist[:20])[:,1].mean()\n",
    "    \n",
    "    return {\n",
    "        'upc_min_time' : upc_time,\n",
    "        'upc_avg_time' : upc_time2,\n",
    "        'upc_pdist' : upc_pdist,\n",
    "        'ttic_min_time' : ttic_time,\n",
    "        'ttic_avg_time' : ttic_time2,\n",
    "        'ttic_pdist' : ttic_pdist\n",
    "    }\n",
    "    "
   ]
  },
  {
   "cell_type": "code",
   "execution_count": 90,
   "metadata": {},
   "outputs": [],
   "source": [
    "def predict_all(poslist):\n",
    "    upc_min = 1e100\n",
    "    ttic_min = 1e100\n",
    "    upc_pdist = -1\n",
    "    ttic_pdist = -1\n",
    "    for pos in poslist:\n",
    "        result = predict(*pos)\n",
    "        if result['upc_min_time'] < upc_min:\n",
    "            upc_min = result['upc_min_time']\n",
    "            upc_avg = result['upc_avg_time']\n",
    "            upc_pdist = result['upc_pdist']\n",
    "        if result['ttic_min_time'] < ttic_min:\n",
    "            ttic_min = result['ttic_min_time']\n",
    "            ttic_avg = result['ttic_avg_time']\n",
    "            ttic_pdist = result['ttic_pdist']\n",
    "    return {\n",
    "        'upc_min_time' : upc_min,\n",
    "        'upc_avg_time' : upc_avg,\n",
    "        'upc_pdist' : upc_pdist,\n",
    "        'ttic_min_time' : ttic_min,\n",
    "        'ttic_avg_time' : ttic_avg,\n",
    "        'ttic_pdist' : ttic_pdist\n",
    "    }"
   ]
  },
  {
   "cell_type": "code",
   "execution_count": 91,
   "metadata": {},
   "outputs": [],
   "source": [
    "def get_current_pos():\n",
    "    ret = []\n",
    "    url = 'https://feeds.transloc.com/3/vehicle_statuses?agencies=104&include_arrivals=false'\n",
    "    result = requests.get(url)\n",
    "    data = result.json()\n",
    "    for x in data['vehicles']:\n",
    "        if x['route_id'] == 8005352:\n",
    "            if x['service_status'] == 'in_service':\n",
    "                ret.append((x['position'], x['next_stop']))\n",
    "    return ret"
   ]
  },
  {
   "cell_type": "code",
   "execution_count": 92,
   "metadata": {},
   "outputs": [],
   "source": [
    "pos_now = get_current_pos()"
   ]
  },
  {
   "cell_type": "code",
   "execution_count": 93,
   "metadata": {},
   "outputs": [
    {
     "name": "stdout",
     "output_type": "stream",
     "text": [
      "[([41.795006, -87.60042], 0), ([41.787823, -87.59766], 8212972)]\n"
     ]
    }
   ],
   "source": [
    "pprint(pos_now)"
   ]
  },
  {
   "cell_type": "code",
   "execution_count": 94,
   "metadata": {},
   "outputs": [
    {
     "data": {
      "text/plain": [
       "{'upc_min_time': 1008000.0,\n",
       " 'upc_avg_time': 1024500.0,\n",
       " 'upc_pdist': 0.00013576717537912343,\n",
       " 'ttic_min_time': 398000.0,\n",
       " 'ttic_avg_time': 420750.0,\n",
       " 'ttic_pdist': 0.0002776302144923172}"
      ]
     },
     "execution_count": 94,
     "metadata": {},
     "output_type": "execute_result"
    }
   ],
   "source": [
    "predict_all(pos_now)"
   ]
  },
  {
   "cell_type": "code",
   "execution_count": 95,
   "metadata": {},
   "outputs": [],
   "source": [
    "def to_str(result):\n",
    "    s = '171路距离UPC最少要%.2f分钟, 平均%.2f分钟, 误差%.10f\\n'%(result['upc_min_time']/1000/60,result['upc_avg_time']/1000/60, (result['upc_pdist']))\n",
    "    s+= '171路距离TTIC最少要%.2f分钟, 平均%.2f分钟, 误差%.10f'%(result['ttic_min_time']/1000/60,result['ttic_avg_time']/1000/60, (result['ttic_pdist']))\n",
    "    return s"
   ]
  },
  {
   "cell_type": "code",
   "execution_count": 96,
   "metadata": {},
   "outputs": [
    {
     "name": "stdout",
     "output_type": "stream",
     "text": [
      "171路距离UPC最少要16.80分钟, 平均17.07分钟, 误差0.0001357672\n",
      "171路距离TTIC最少要6.63分钟, 平均7.01分钟, 误差0.0002776302\n"
     ]
    }
   ],
   "source": [
    "print(to_str(predict_all(pos_now)))"
   ]
  },
  {
   "cell_type": "code",
   "execution_count": null,
   "metadata": {},
   "outputs": [],
   "source": []
  },
  {
   "cell_type": "code",
   "execution_count": null,
   "metadata": {},
   "outputs": [],
   "source": []
  }
 ],
 "metadata": {
  "kernelspec": {
   "display_name": "Python 3",
   "language": "python",
   "name": "python3"
  },
  "language_info": {
   "codemirror_mode": {
    "name": "ipython",
    "version": 3
   },
   "file_extension": ".py",
   "mimetype": "text/x-python",
   "name": "python",
   "nbconvert_exporter": "python",
   "pygments_lexer": "ipython3",
   "version": "3.6.8"
  }
 },
 "nbformat": 4,
 "nbformat_minor": 2
}
